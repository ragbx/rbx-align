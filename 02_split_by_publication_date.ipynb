{
 "cells": [
  {
   "cell_type": "code",
   "execution_count": 17,
   "id": "63b94c37",
   "metadata": {},
   "outputs": [],
   "source": [
    "import pandas as pd\n",
    "from os.path import join"
   ]
  },
  {
   "cell_type": "code",
   "execution_count": 18,
   "id": "4488f0a6",
   "metadata": {},
   "outputs": [],
   "source": [
    "dest = pd.read_csv(\"data/csv/2023-04-02-destombes.csv.gz\")"
   ]
  },
  {
   "cell_type": "code",
   "execution_count": 19,
   "id": "236010c1",
   "metadata": {},
   "outputs": [
    {
     "data": {
      "text/plain": [
       "Index(['type_notice', 'niveau_bib', 'record_id', 'isbn', 'ark', 'frbnf',\n",
       "       'refcom', 'ean', 'rbx_vdg', 'support', 'scale', 'publication_date',\n",
       "       'global_title', 'title', 'numero_tome', 'responsability', 'subject',\n",
       "       'publisher', 'agence_cat', 'pat', 'alignement_bnf', 'nb_items',\n",
       "       'bnf_authnumbers', 'koha_authnumbers'],\n",
       "      dtype='object')"
      ]
     },
     "execution_count": 19,
     "metadata": {},
     "output_type": "execute_result"
    }
   ],
   "source": [
    "dest.columns"
   ]
  },
  {
   "cell_type": "code",
   "execution_count": 20,
   "id": "d800dc89",
   "metadata": {},
   "outputs": [
    {
     "name": "stdout",
     "output_type": "stream",
     "text": [
      "3107\n",
      "3006\n",
      "519\n"
     ]
    }
   ],
   "source": [
    "dest = pd.read_csv(\"data/csv/2023-04-02-destombes.csv.gz\")\n",
    "print(len(dest))\n",
    "dest = dest[~dest['publication_date'].isna()]\n",
    "dest = dest[dest['publication_date'].str.match('\\d{4}')]\n",
    "print(len(dest))\n",
    "dest['publication_date'] = dest['publication_date'].astype(int)\n",
    "dest = dest[dest['publication_date'] >= 1880]\n",
    "dest = dest[dest['publication_date'] < 1890]\n",
    "print(len(dest))"
   ]
  },
  {
   "cell_type": "code",
   "execution_count": 36,
   "id": "74cb790f",
   "metadata": {},
   "outputs": [],
   "source": [
    "dest.to_csv(\"data/csv/2023-04-02-destombes_1880.csv.gz\", index=False)"
   ]
  },
  {
   "cell_type": "code",
   "execution_count": null,
   "id": "c689ac3d",
   "metadata": {},
   "outputs": [],
   "source": []
  },
  {
   "cell_type": "code",
   "execution_count": null,
   "id": "43b38eb5",
   "metadata": {},
   "outputs": [],
   "source": []
  },
  {
   "cell_type": "code",
   "execution_count": 31,
   "id": "9ac18fff",
   "metadata": {},
   "outputs": [
    {
     "name": "stdout",
     "output_type": "stream",
     "text": [
      "27739\n",
      "27829\n",
      "29295\n",
      "29673\n",
      "26556\n",
      "22153\n",
      "28756\n",
      "29412\n",
      "26228\n",
      "29216\n",
      "30677\n",
      "31053\n",
      "30982\n",
      "29480\n",
      "32600\n",
      "31253\n",
      "32658\n",
      "30778\n",
      "29158\n",
      "33347\n",
      "588843\n"
     ]
    }
   ],
   "source": [
    "folder = \"/media/fpichenot/Samsung_T5/bnf_data/SRU/csv\"\n",
    "bnf_mon_1875_1894 = pd.DataFrame()\n",
    "nb_not = 0\n",
    "for year in range(1875, 1895):\n",
    "    bnf_mon = pd.read_csv(join(folder, f\"bnf_mon_{year}.csv\"))\n",
    "    print(len(bnf_mon))\n",
    "    nb_not = nb_not + len(bnf_mon)\n",
    "    bnf_mon_1875_1894 = pd.concat([bnf_mon_1875_1894, bnf_mon])\n",
    "print(nb_not)"
   ]
  },
  {
   "cell_type": "code",
   "execution_count": 32,
   "id": "89657eff",
   "metadata": {},
   "outputs": [
    {
     "data": {
      "text/plain": [
       "588843"
      ]
     },
     "execution_count": 32,
     "metadata": {},
     "output_type": "execute_result"
    }
   ],
   "source": [
    "len(bnf_mon_1875_1894)"
   ]
  },
  {
   "cell_type": "code",
   "execution_count": 35,
   "id": "b8bf91b4",
   "metadata": {},
   "outputs": [],
   "source": [
    "bnf_mon_1875_1894.to_csv(join(\"data/csv\", \"bnf_mon_1875_1894.csv.gz\"), index=False)"
   ]
  },
  {
   "cell_type": "code",
   "execution_count": null,
   "id": "bdae6e8a",
   "metadata": {},
   "outputs": [],
   "source": []
  }
 ],
 "metadata": {
  "kernelspec": {
   "display_name": "Python 3 (ipykernel)",
   "language": "python",
   "name": "python3"
  },
  "language_info": {
   "codemirror_mode": {
    "name": "ipython",
    "version": 3
   },
   "file_extension": ".py",
   "mimetype": "text/x-python",
   "name": "python",
   "nbconvert_exporter": "python",
   "pygments_lexer": "ipython3",
   "version": "3.8.2"
  }
 },
 "nbformat": 4,
 "nbformat_minor": 5
}
