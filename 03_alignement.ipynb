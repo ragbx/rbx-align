{
  "nbformat": 4,
  "nbformat_minor": 0,
  "metadata": {
    "colab": {
      "provenance": []
    },
    "kernelspec": {
      "name": "python3",
      "display_name": "Python 3"
    },
    "language_info": {
      "name": "python"
    }
  },
  "cells": [
    {
      "cell_type": "code",
      "execution_count": null,
      "metadata": {
        "id": "07Ai3BfxKH9L"
      },
      "outputs": [],
      "source": [
        "from os.path import join\n",
        "\n",
        "import numpy as np\n",
        "import pandas as pd\n",
        "import warnings\n",
        "warnings.filterwarnings('ignore')\n",
        "\n",
        "from sklearn.feature_extraction.text import TfidfVectorizer\n",
        "from sklearn.metrics.pairwise import cosine_similarity"
      ]
    },
    {
      "cell_type": "code",
      "source": [
        "class Rmatch():\n",
        "    def __init__(self, records_x, records_y, analyser='word', ngram_range=(1,1)):\n",
        "        self.records_x = records_x\n",
        "        self.records_y = records_y\n",
        "        self.records = pd.concat([self.records_x, self.records_y])\n",
        "        self.analyser = analyser\n",
        "        self.ngram_range = ngram_range\n",
        "\n",
        "    def get_fields_renamers(self):\n",
        "        candidate_fields = {}\n",
        "        rec2match_fields = {}\n",
        "        for c in self.records.columns:\n",
        "            candidate_fields[c] = f\"canditate_{c}\"\n",
        "            rec2match_fields[c] = f\"rec2match_{c}\"\n",
        "        self.candidate_fields_renamer = candidate_fields\n",
        "        self.rec2match_fields_renamer = rec2match_fields\n",
        "\n",
        "    def data_preprocessing(self):\n",
        "        self.records['global_title'] = self.records['global_title'].astype('U')\n",
        "        self.records['title'] = self.records['title'].astype('U')\n",
        "        self.records['responsability'] = self.records['responsability'].astype('U')\n",
        "        self.records['publisher'] = self.records['publisher'].astype('U')\n",
        "\n",
        "        self.get_fields_renamers()\n",
        "\n",
        "    def get_multifields_vectorizer(self, fields2vect):\n",
        "        self.records['fields2vect'] = self.records[fields2vect].apply(\"-\".join, axis=1)\n",
        "        self.records['fields2vect'] = self.records['fields2vect'].apply(lambda x: ' '.join(set(x.split())))\n",
        "        self.multifields_v = {}\n",
        "        self.multifields_v['vectorizer'] = TfidfVectorizer(strip_accents='unicode',\n",
        "                                                lowercase=True,\n",
        "                                                ngram_range=self.ngram_range,\n",
        "                                                analyzer=self.analyser)\n",
        "        self.multifields_v['matrix'] = self.multifields_v['vectorizer'].fit_transform(self.records['fields2vect'])\n",
        "\n",
        "        m = len(self.records_x)\n",
        "        self.multifields_v['matrix_x'] = self.multifields_v['matrix'][:m]\n",
        "        self.multifields_v['matrix_y'] = self.multifields_v['matrix'][m:]\n",
        "\n",
        "    def get_multifields_cosine_similarity(self):\n",
        "        self.cosine_similarity = cosine_similarity(self.multifields_v['matrix_x'],\n",
        "                                                   self.multifields_v['matrix_y'])\n",
        "\n",
        "    def get_candidates(self, a=0.5):\n",
        "        self.records_y = self.records_y.rename(columns=self.candidate_fields_renamer)\n",
        "        self.records_x = self.records_x.rename(columns=self.rec2match_fields_renamer)\n",
        "\n",
        "        candidates = []\n",
        "        self.candidates = pd.DataFrame()\n",
        "        for idx, r in enumerate(self.cosine_similarity):\n",
        "            rec2match = self.records_x.iloc[idx,:]\n",
        "            for i in r.argsort()[-20:][::-1]:\n",
        "                if r[i] > a:\n",
        "                    candidate = self.records_y.iloc[i,:]\n",
        "                    candidate['cos'] = r[i]\n",
        "                    candidates.append(pd.concat([rec2match, candidate]))\n",
        "        if len(candidates) > 0:\n",
        "            self.candidates = pd.DataFrame(candidates)\n",
        "\n",
        "    def get_best_candidates(self):\n",
        "        if hasattr(self, \"candidates\"):\n",
        "            if len(self.candidates) > 0:\n",
        "                self.candidates['R'] = self.candidates['cos']\n",
        "\n",
        "                self.candidates.loc[self.candidates['canditate_publication_date'].astype(str) != self.candidates['rec2match_publication_date'].astype(str), 'R']  = self.candidates['R'] * 0.7\n",
        "                self.candidates.loc[self.candidates['canditate_numero_tome'].astype(str) != self.candidates['rec2match_numero_tome'].astype(str), 'R']  = self.candidates['R'] * 0.7\n",
        "\n",
        "                best_candidates_idx = self.candidates.groupby(['rec2match_record_id'])['R'].transform(max) == self.candidates['R']\n",
        "                self.best_candidates = self.candidates[best_candidates_idx]"
      ],
      "metadata": {
        "id": "iCehPROOKVGc"
      },
      "execution_count": null,
      "outputs": []
    },
    {
      "cell_type": "code",
      "source": [
        "#/content/drive/MyDrive/rbx/rbx-align/\n",
        "data_bnf_file = \"/content/drive/MyDrive/rbx/rbx-align/data/csv/bnf_mon_1875_1894.csv.gz\"\n",
        "data_bnf = pd.read_csv(data_bnf_file)\n",
        "\n",
        "data_rbx_file = \"/content/drive/MyDrive/rbx/rbx-align/data/csv/2023-04-02-destombes_1880.csv.gz\"\n",
        "data_rbx = pd.read_csv(data_rbx_file)\n",
        "\n",
        "data = pd.concat([data_bnf, data_rbx])"
      ],
      "metadata": {
        "id": "BihWyo-9Kb6K"
      },
      "execution_count": null,
      "outputs": []
    },
    {
      "cell_type": "code",
      "source": [
        "rmatch = Rmatch(data_rbx, data_bnf)\n",
        "rmatch.data_preprocessing()\n",
        "rmatch.get_multifields_vectorizer(['global_title', 'title', 'publisher', 'responsability'])\n",
        "rmatch.get_multifields_cosine_similarity()"
      ],
      "metadata": {
        "id": "rxkpRMbyMH-W"
      },
      "execution_count": null,
      "outputs": []
    },
    {
      "cell_type": "code",
      "source": [
        "rmatch.get_candidates(a=0.5)\n",
        "rmatch.get_best_candidates()"
      ],
      "metadata": {
        "id": "DCs49IeOOvDI"
      },
      "execution_count": null,
      "outputs": []
    }
  ]
}